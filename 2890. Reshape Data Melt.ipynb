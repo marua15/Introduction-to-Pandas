{
 "cells": [
  {
   "cell_type": "code",
   "execution_count": null,
   "metadata": {},
   "outputs": [],
   "source": [
    "import pandas as pd\n",
    "\n",
    "def meltTable(report: pd.DataFrame) -> pd.DataFrame:\n",
    "    new_df = report.melt(id_vars=[\"product\"],value_vars=[\"quarter_1\",\"quarter_2\",\"quarter_3\",\"quarter_4\"],var_name=\"quarter\",value_name=\"sales\")\n",
    "    return new_df"
   ]
  }
 ],
 "metadata": {
  "language_info": {
   "name": "python"
  }
 },
 "nbformat": 4,
 "nbformat_minor": 2
}
